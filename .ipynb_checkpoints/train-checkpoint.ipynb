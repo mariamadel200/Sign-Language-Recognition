version https://git-lfs.github.com/spec/v1
oid sha256:b77f376b2a28ae14976121d324b8d106703252dd5bc6ec21b1d062f81f8963de
size 1162007
